{
 "cells": [
  {
   "cell_type": "code",
   "execution_count": null,
   "id": "16a0e798-e7c4-456d-884b-0bd59987d814",
   "metadata": {},
   "outputs": [],
   "source": [
    "import pandas as pd\n",
    "import numpy as np\n",
    "from sklearn.impute import SimpleImputer\n",
    "from sklearn.preprocessing import LabelEncoder,MinMaxScaler\n",
    "scaler = MinMaxScaler()\n",
    "from sklearn.model_selection import train_test_split\n",
    "from sklearn.metrics import mean_squared_error, mean_absolute_error, r2_score\n",
    "from sklearn.linear_model import LinearRegression, Ridge, LarsCV\n",
    "from sklearn.ensemble import GradientBoostingRegressor\n",
    "from catboost import CatBoostRegressor\n",
    "from xgboost import XGBRegressor\n",
    "\n",
    "def evaluate(model,xtrain,xtest,ytrain,ytest):\n",
    "    model.fit(xtrain,ytrain)\n",
    "    ypred = model.predict(xtest)\n",
    "    \n",
    "    mse = mean_squared_error(ytest, ypred)\n",
    "    rmse = mean_squared_error(ytest, ypred, squared=False)\n",
    "    mae = mean_absolute_error(ytest, ypred)\n",
    "    r2 = r2_score(ytest, ypred)\n",
    "\n",
    "    print(f'Mean Squared Error (MSE): {mse}')\n",
    "    print(f'Root Mean Squared Error (RMSE): {rmse}')\n",
    "    print(f'Mean Absolute Error (MAE): {mae}')\n",
    "    print(f'R-squared (R²): {r2}')\n",
    "    return (rmse,model)"
   ]
  },
  {
   "cell_type": "markdown",
   "id": "f2ae8567-a84b-48ca-8876-1dbd77a6c9b1",
   "metadata": {},
   "source": [
    "## first aproach"
   ]
  },
  {
   "cell_type": "code",
   "execution_count": null,
   "id": "1878dc08-aec0-4165-b05a-b704062c5478",
   "metadata": {},
   "outputs": [],
   "source": [
    "data = pd.read_csv('train.csv')"
   ]
  },
  {
   "cell_type": "code",
   "execution_count": null,
   "id": "8119c049-1a6e-4ff8-8802-5802be38e7a1",
   "metadata": {},
   "outputs": [],
   "source": [
    "data.head(2)"
   ]
  },
  {
   "cell_type": "code",
   "execution_count": null,
   "id": "623163ea-ef74-4c4d-a0b1-9a30be26476a",
   "metadata": {},
   "outputs": [],
   "source": [
    "from tqdm.auto import tqdm\n",
    "label_encoders = {}\n",
    "for column in tqdm(['Gender', 'Age', 'City_Category', 'Stay_In_Current_City_Years']):\n",
    "    label_encoders[column] = LabelEncoder()\n",
    "    data[column] = label_encoders[column].fit_transform(data[column])\n",
    "\n",
    "imputer = SimpleImputer(strategy= 'median' )\n",
    "data[['Product_Category_2', 'Product_Category_3']] = imputer.fit_transform(\n",
    "    data[['Product_Category_2', 'Product_Category_3']])\n",
    "\n"
   ]
  },
  {
   "cell_type": "code",
   "execution_count": null,
   "id": "00722b2c-302d-45f4-af2a-0f82909050ac",
   "metadata": {},
   "outputs": [],
   "source": [
    "\n",
    "user_agg = data.groupby('User_ID').agg(\n",
    "    {'Purchase': ['count', 'mean', 'sum']}).reset_index()\n",
    "user_agg.columns = ['User_ID', 'User_Purchase_Count',\n",
    "                    'User_Purchase_Mean', 'User_Purchase_Sum']\n",
    "\n",
    "product_agg = data.groupby('Product_ID').agg(\n",
    "    {'Purchase': ['count', 'mean', 'sum']}).reset_index()\n",
    "product_agg.columns = ['Product_ID', 'Product_Purchase_Count',\n",
    "                       'Product_Purchase_Mean', 'Product_Purchase_Sum']\n",
    "\n",
    "data = data.merge(user_agg, on='User_ID', how='left')\n",
    "data = data.merge(product_agg, on='Product_ID', how='left')\n"
   ]
  },
  {
   "cell_type": "code",
   "execution_count": null,
   "id": "6005d33e-fae5-4763-9ecb-d2daf60ab914",
   "metadata": {},
   "outputs": [],
   "source": [
    "data.drop(columns=['Product_ID','User_ID'], inplace=True)"
   ]
  },
  {
   "cell_type": "code",
   "execution_count": null,
   "id": "8176317a-5af2-4d38-9e5f-96820195f561",
   "metadata": {},
   "outputs": [],
   "source": [
    "x = data.drop(columns=['Purchase'])\n",
    "y = data['Purchase']"
   ]
  },
  {
   "cell_type": "code",
   "execution_count": null,
   "id": "6fa96431-2f22-442f-aa49-40abdcf3112e",
   "metadata": {},
   "outputs": [],
   "source": [
    "xtrain, xtest, ytrain, ytest = train_test_split(x,y,train_size=0.8, random_state=42)\n",
    "xtrain = scaler.fit_transform(xtrain)\n",
    "xtest = scaler.transform(xtest)"
   ]
  },
  {
   "cell_type": "code",
   "execution_count": null,
   "id": "7dcb7af9-6318-4f9a-b6cd-bcdeda8ed969",
   "metadata": {},
   "outputs": [],
   "source": [
    "l = []\n",
    "model = LinearRegression()\n",
    "l.append(evaluate(model,xtrain,xtest,ytrain,ytest))\n",
    "\n",
    "model = GradientBoostingRegressor()\n",
    "l.append(evaluate(model,xtrain,xtest,ytrain,ytest))\n",
    "\n",
    "model = CatBoostRegressor()\n",
    "l.append(evaluate(model,xtrain,xtest,ytrain,ytest))\n",
    "\n",
    "model = XGBRegressor()\n",
    "l.append(evaluate(model,xtrain,xtest,ytrain,ytest))\n",
    "\n",
    "model = Ridge()\n",
    "l.append(evaluate(model,xtrain,xtest,ytrain,ytest))\n",
    "\n",
    "model = LarsCV()\n",
    "l.append(evaluate(model,xtrain,xtest,ytrain,ytest))"
   ]
  },
  {
   "cell_type": "markdown",
   "id": "91120d69-8bc6-4041-ad68-288a17bec4f5",
   "metadata": {},
   "source": [
    "## second approach"
   ]
  },
  {
   "cell_type": "code",
   "execution_count": null,
   "id": "b2afc951-7873-4b14-93f3-c03ed042824b",
   "metadata": {},
   "outputs": [],
   "source": [
    "data = pd.read_csv('train.csv')"
   ]
  },
  {
   "cell_type": "code",
   "execution_count": null,
   "id": "f8ee4d2d-d2a6-4634-8dc7-a7dc34709089",
   "metadata": {},
   "outputs": [],
   "source": [
    "data['Product_Category_2'] = data['Product_Category_2'].fillna(data['Product_Category_2'].mode()[0])\n",
    "data['Product_Category_3'] = data['Product_Category_3'].fillna(data['Product_Category_3'].mode()[0])\n",
    "data = pd.get_dummies(data, columns=['Gender','Age','City_Category'], drop_first=True, dtype=int, sparse=False)\n",
    "data['Stay_In_Current_City_Years'] = data['Stay_In_Current_City_Years'].astype(str).str.extract('(\\d+)').astype(int)\n",
    "data.drop(columns=['Product_ID', 'User_ID'], inplace= True)"
   ]
  },
  {
   "cell_type": "code",
   "execution_count": null,
   "id": "ced270d6-3934-427a-8bac-e2837361e627",
   "metadata": {},
   "outputs": [],
   "source": [
    "x = data.drop(columns=['Purchase'])\n",
    "y = data['Purchase']"
   ]
  },
  {
   "cell_type": "code",
   "execution_count": null,
   "id": "22a2dde5-1fba-4199-a2b0-133d970a9524",
   "metadata": {},
   "outputs": [],
   "source": [
    "xtrain,xtest,ytrain,ytest = train_test_split(x,y,test_size=0.2,random_state=42)\n",
    "xtrain = scaler.fit_transform(xtrain)\n",
    "xtest = scaler.transform(xtest)"
   ]
  },
  {
   "cell_type": "code",
   "execution_count": null,
   "id": "93c396f0-560b-4bee-8817-80deb9c16f78",
   "metadata": {},
   "outputs": [],
   "source": [
    "m = []\n",
    "model = LinearRegression()\n",
    "m.append(evaluate(model,xtrain,xtest,ytrain,ytest))\n",
    "\n",
    "model = GradientBoostingRegressor()\n",
    "m.append(evaluate(model,xtrain,xtest,ytrain,ytest))\n",
    "\n",
    "model = CatBoostRegressor()\n",
    "m.append(evaluate(model,xtrain,xtest,ytrain,ytest))\n",
    "\n",
    "model = XGBRegressor()\n",
    "m.append(evaluate(model,xtrain,xtest,ytrain,ytest))\n",
    "\n",
    "model = Ridge()\n",
    "m.append(evaluate(model,xtrain,xtest,ytrain,ytest))\n",
    "\n",
    "model = LarsCV()\n",
    "m.append(evaluate(model,xtrain,xtest,ytrain,ytest))"
   ]
  },
  {
   "cell_type": "code",
   "execution_count": null,
   "id": "b9278021-98ea-4f5c-ad66-49fcd51b86f9",
   "metadata": {},
   "outputs": [],
   "source": [
    "l"
   ]
  },
  {
   "cell_type": "code",
   "execution_count": null,
   "id": "26bb0119-5808-41d6-aae0-8b2038daa7b6",
   "metadata": {},
   "outputs": [],
   "source": [
    "m"
   ]
  },
  {
   "cell_type": "code",
   "execution_count": null,
   "id": "4d7e692b-5b6b-44e1-892d-d965ec8060a1",
   "metadata": {},
   "outputs": [],
   "source": []
  }
 ],
 "metadata": {
  "kernelspec": {
   "display_name": "Python 3 (ipykernel)",
   "language": "python",
   "name": "python3"
  },
  "language_info": {
   "codemirror_mode": {
    "name": "ipython",
    "version": 3
   },
   "file_extension": ".py",
   "mimetype": "text/x-python",
   "name": "python",
   "nbconvert_exporter": "python",
   "pygments_lexer": "ipython3",
   "version": "3.11.5"
  }
 },
 "nbformat": 4,
 "nbformat_minor": 5
}
