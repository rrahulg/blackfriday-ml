{
 "cells": [
  {
   "cell_type": "code",
   "execution_count": 1,
   "id": "2a9b4d35-78f4-4a8c-aee7-aec4389ae45b",
   "metadata": {},
   "outputs": [],
   "source": [
    "import numpy as np\n",
    "import pandas as pd\n",
    "import matplotlib.pyplot as plt"
   ]
  },
  {
   "cell_type": "code",
   "execution_count": 2,
   "id": "e33ecae1-f0f1-45c5-aec6-519e0376f82c",
   "metadata": {},
   "outputs": [],
   "source": [
    "df = pd.read_csv('train.csv')"
   ]
  },
  {
   "cell_type": "code",
   "execution_count": 3,
   "id": "f7d36c8c-8e94-4485-88ba-21b9ad48978b",
   "metadata": {},
   "outputs": [
    {
     "data": {
      "text/html": [
       "<div>\n",
       "<style scoped>\n",
       "    .dataframe tbody tr th:only-of-type {\n",
       "        vertical-align: middle;\n",
       "    }\n",
       "\n",
       "    .dataframe tbody tr th {\n",
       "        vertical-align: top;\n",
       "    }\n",
       "\n",
       "    .dataframe thead th {\n",
       "        text-align: right;\n",
       "    }\n",
       "</style>\n",
       "<table border=\"1\" class=\"dataframe\">\n",
       "  <thead>\n",
       "    <tr style=\"text-align: right;\">\n",
       "      <th></th>\n",
       "      <th>User_ID</th>\n",
       "      <th>Product_ID</th>\n",
       "      <th>Gender</th>\n",
       "      <th>Age</th>\n",
       "      <th>Occupation</th>\n",
       "      <th>City_Category</th>\n",
       "      <th>Stay_In_Current_City_Years</th>\n",
       "      <th>Marital_Status</th>\n",
       "      <th>Product_Category_1</th>\n",
       "      <th>Product_Category_2</th>\n",
       "      <th>Product_Category_3</th>\n",
       "      <th>Purchase</th>\n",
       "    </tr>\n",
       "  </thead>\n",
       "  <tbody>\n",
       "    <tr>\n",
       "      <th>0</th>\n",
       "      <td>1000001</td>\n",
       "      <td>P00069042</td>\n",
       "      <td>F</td>\n",
       "      <td>0-17</td>\n",
       "      <td>10</td>\n",
       "      <td>A</td>\n",
       "      <td>2</td>\n",
       "      <td>0</td>\n",
       "      <td>3</td>\n",
       "      <td>NaN</td>\n",
       "      <td>NaN</td>\n",
       "      <td>8370</td>\n",
       "    </tr>\n",
       "    <tr>\n",
       "      <th>1</th>\n",
       "      <td>1000001</td>\n",
       "      <td>P00248942</td>\n",
       "      <td>F</td>\n",
       "      <td>0-17</td>\n",
       "      <td>10</td>\n",
       "      <td>A</td>\n",
       "      <td>2</td>\n",
       "      <td>0</td>\n",
       "      <td>1</td>\n",
       "      <td>6.0</td>\n",
       "      <td>14.0</td>\n",
       "      <td>15200</td>\n",
       "    </tr>\n",
       "  </tbody>\n",
       "</table>\n",
       "</div>"
      ],
      "text/plain": [
       "   User_ID Product_ID Gender   Age  Occupation City_Category  \\\n",
       "0  1000001  P00069042      F  0-17          10             A   \n",
       "1  1000001  P00248942      F  0-17          10             A   \n",
       "\n",
       "  Stay_In_Current_City_Years  Marital_Status  Product_Category_1  \\\n",
       "0                          2               0                   3   \n",
       "1                          2               0                   1   \n",
       "\n",
       "   Product_Category_2  Product_Category_3  Purchase  \n",
       "0                 NaN                 NaN      8370  \n",
       "1                 6.0                14.0     15200  "
      ]
     },
     "execution_count": 3,
     "metadata": {},
     "output_type": "execute_result"
    }
   ],
   "source": [
    "df.head(2)"
   ]
  },
  {
   "cell_type": "code",
   "execution_count": 4,
   "id": "c7f197c3-a7ca-44e0-b94f-c8de9f8a0850",
   "metadata": {},
   "outputs": [
    {
     "data": {
      "text/plain": [
       "(550068, 12)"
      ]
     },
     "execution_count": 4,
     "metadata": {},
     "output_type": "execute_result"
    }
   ],
   "source": [
    "df.shape"
   ]
  },
  {
   "cell_type": "code",
   "execution_count": 5,
   "id": "b29ede89-21f9-41a0-8a0a-143a57bcc634",
   "metadata": {},
   "outputs": [
    {
     "data": {
      "text/plain": [
       "User_ID                            0\n",
       "Product_ID                         0\n",
       "Gender                             0\n",
       "Age                                0\n",
       "Occupation                         0\n",
       "City_Category                      0\n",
       "Stay_In_Current_City_Years         0\n",
       "Marital_Status                     0\n",
       "Product_Category_1                 0\n",
       "Product_Category_2            173638\n",
       "Product_Category_3            383247\n",
       "Purchase                           0\n",
       "dtype: int64"
      ]
     },
     "execution_count": 5,
     "metadata": {},
     "output_type": "execute_result"
    }
   ],
   "source": [
    "df.isna().sum()"
   ]
  },
  {
   "cell_type": "code",
   "execution_count": 6,
   "id": "b4c7e42f-f2a2-4292-ba3b-243231830308",
   "metadata": {},
   "outputs": [],
   "source": [
    "df.fillna(0, inplace = True)"
   ]
  },
  {
   "cell_type": "code",
   "execution_count": 7,
   "id": "bda73cdc-42dc-4cf7-87ab-9c6fe50806a8",
   "metadata": {},
   "outputs": [
    {
     "data": {
      "text/plain": [
       "0"
      ]
     },
     "execution_count": 7,
     "metadata": {},
     "output_type": "execute_result"
    }
   ],
   "source": [
    "df.duplicated().sum()"
   ]
  },
  {
   "cell_type": "code",
   "execution_count": 8,
   "id": "bdbb7df2-e692-4ec9-918b-74e45d23a997",
   "metadata": {},
   "outputs": [
    {
     "data": {
      "text/plain": [
       "User_ID                        5891\n",
       "Product_ID                     3631\n",
       "Gender                            2\n",
       "Age                               7\n",
       "Occupation                       21\n",
       "City_Category                     3\n",
       "Stay_In_Current_City_Years        5\n",
       "Marital_Status                    2\n",
       "Product_Category_1               20\n",
       "Product_Category_2               18\n",
       "Product_Category_3               16\n",
       "Purchase                      18105\n",
       "dtype: int64"
      ]
     },
     "execution_count": 8,
     "metadata": {},
     "output_type": "execute_result"
    }
   ],
   "source": [
    "df.nunique()"
   ]
  },
  {
   "cell_type": "code",
   "execution_count": 9,
   "id": "2d0a7385-2ae8-4f2a-82cb-5ed797740045",
   "metadata": {},
   "outputs": [],
   "source": [
    "df.drop(columns=['User_ID','Product_ID'], inplace = True)"
   ]
  },
  {
   "cell_type": "code",
   "execution_count": 10,
   "id": "f8d8282b-fc38-4a9f-a396-4ee72b9a3d80",
   "metadata": {},
   "outputs": [
    {
     "name": "stdout",
     "output_type": "stream",
     "text": [
      "Gender\n",
      "M    414259\n",
      "F    135809\n",
      "Name: count, dtype: int64 \n",
      "\n",
      "Age\n",
      "26-35    219587\n",
      "36-45    110013\n",
      "18-25     99660\n",
      "46-50     45701\n",
      "51-55     38501\n",
      "55+       21504\n",
      "0-17      15102\n",
      "Name: count, dtype: int64 \n",
      "\n",
      "Occupation\n",
      "4     72308\n",
      "0     69638\n",
      "7     59133\n",
      "1     47426\n",
      "17    40043\n",
      "20    33562\n",
      "12    31179\n",
      "14    27309\n",
      "2     26588\n",
      "16    25371\n",
      "6     20355\n",
      "3     17650\n",
      "10    12930\n",
      "5     12177\n",
      "15    12165\n",
      "11    11586\n",
      "19     8461\n",
      "13     7728\n",
      "18     6622\n",
      "9      6291\n",
      "8      1546\n",
      "Name: count, dtype: int64 \n",
      "\n",
      "City_Category\n",
      "B    231173\n",
      "C    171175\n",
      "A    147720\n",
      "Name: count, dtype: int64 \n",
      "\n",
      "Stay_In_Current_City_Years\n",
      "1     193821\n",
      "2     101838\n",
      "3      95285\n",
      "4+     84726\n",
      "0      74398\n",
      "Name: count, dtype: int64 \n",
      "\n",
      "Marital_Status\n",
      "0    324731\n",
      "1    225337\n",
      "Name: count, dtype: int64 \n",
      "\n",
      "Product_Category_1\n",
      "5     150933\n",
      "1     140378\n",
      "8     113925\n",
      "11     24287\n",
      "2      23864\n",
      "6      20466\n",
      "3      20213\n",
      "4      11753\n",
      "16      9828\n",
      "15      6290\n",
      "13      5549\n",
      "10      5125\n",
      "12      3947\n",
      "7       3721\n",
      "18      3125\n",
      "20      2550\n",
      "19      1603\n",
      "14      1523\n",
      "17       578\n",
      "9        410\n",
      "Name: count, dtype: int64 \n",
      "\n",
      "Product_Category_2\n",
      "0.0     173638\n",
      "8.0      64088\n",
      "14.0     55108\n",
      "2.0      49217\n",
      "16.0     43255\n",
      "15.0     37855\n",
      "5.0      26235\n",
      "4.0      25677\n",
      "6.0      16466\n",
      "11.0     14134\n",
      "17.0     13320\n",
      "13.0     10531\n",
      "9.0       5693\n",
      "12.0      5528\n",
      "10.0      3043\n",
      "3.0       2884\n",
      "18.0      2770\n",
      "7.0        626\n",
      "Name: count, dtype: int64 \n",
      "\n",
      "Product_Category_3\n",
      "0.0     383247\n",
      "16.0     32636\n",
      "15.0     28013\n",
      "14.0     18428\n",
      "17.0     16702\n",
      "5.0      16658\n",
      "8.0      12562\n",
      "9.0      11579\n",
      "12.0      9246\n",
      "13.0      5459\n",
      "6.0       4890\n",
      "18.0      4629\n",
      "4.0       1875\n",
      "11.0      1805\n",
      "10.0      1726\n",
      "3.0        613\n",
      "Name: count, dtype: int64 \n",
      "\n",
      "Purchase\n",
      "7011     191\n",
      "7193     188\n",
      "6855     187\n",
      "6891     184\n",
      "7012     183\n",
      "        ... \n",
      "23491      1\n",
      "18345      1\n",
      "3372       1\n",
      "855        1\n",
      "21489      1\n",
      "Name: count, Length: 18105, dtype: int64 \n",
      "\n"
     ]
    }
   ],
   "source": [
    "for x in df.columns:\n",
    "    print(df[x].value_counts() ,'\\n') "
   ]
  },
  {
   "cell_type": "code",
   "execution_count": null,
   "id": "9557e4a9-695e-4f2c-b5c1-322363e810a7",
   "metadata": {},
   "outputs": [],
   "source": [
    "from sklearn.preprocessing import OneHotEncoder\n",
    "ohe = OneHotEncoder()\n",
    "categorical_columns = df['Gender','city_Category']"
   ]
  },
  {
   "cell_type": "code",
   "execution_count": null,
   "id": "63c25ea7-951a-42cd-97c8-8f8fcf13c077",
   "metadata": {},
   "outputs": [],
   "source": []
  }
 ],
 "metadata": {
  "kernelspec": {
   "display_name": "Python 3 (ipykernel)",
   "language": "python",
   "name": "python3"
  },
  "language_info": {
   "codemirror_mode": {
    "name": "ipython",
    "version": 3
   },
   "file_extension": ".py",
   "mimetype": "text/x-python",
   "name": "python",
   "nbconvert_exporter": "python",
   "pygments_lexer": "ipython3",
   "version": "3.11.5"
  }
 },
 "nbformat": 4,
 "nbformat_minor": 5
}
